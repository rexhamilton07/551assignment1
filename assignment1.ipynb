{
  "nbformat": 4,
  "nbformat_minor": 0,
  "metadata": {
    "colab": {
      "provenance": [],
      "include_colab_link": true
    },
    "kernelspec": {
      "name": "python3",
      "display_name": "Python 3"
    },
    "language_info": {
      "name": "python"
    }
  },
  "cells": [
    {
      "cell_type": "markdown",
      "metadata": {
        "id": "view-in-github",
        "colab_type": "text"
      },
      "source": [
        "<a href=\"https://colab.research.google.com/github/rexhamilton07/551assignment1/blob/main/assignment1.ipynb\" target=\"_parent\"><img src=\"https://colab.research.google.com/assets/colab-badge.svg\" alt=\"Open In Colab\"/></a>"
      ]
    },
    {
      "cell_type": "code",
      "execution_count": 21,
      "metadata": {
        "colab": {
          "base_uri": "https://localhost:8080/"
        },
        "id": "BC13w7qDRQfT",
        "outputId": "03a0af0a-c206-4c51-bba6-f7994f3552a6"
      },
      "outputs": [
        {
          "output_type": "stream",
          "name": "stdout",
          "text": [
            "<built-in method values of dotdict object at 0x7c82dd3b7d30>\n",
            "    age_group\n",
            "0       Adult\n",
            "1       Adult\n",
            "2       Adult\n",
            "3       Adult\n",
            "4       Adult\n",
            "..        ...\n",
            "595     Adult\n",
            "596     Adult\n",
            "597     Adult\n",
            "598     Adult\n",
            "599     Adult\n",
            "\n",
            "[600 rows x 1 columns]\n"
          ]
        }
      ],
      "source": [
        "import numpy as np\n",
        "import pandas as pd\n",
        "\n",
        "\n",
        "#import\n",
        "from ucimlrepo import fetch_ucirepo\n",
        "\n",
        "# fetch dataset\n",
        "national_health_and_nutrition_health_survey_2013_2014_nhanes_age_prediction_subset = fetch_ucirepo(id=887)\n",
        "\n",
        "# data (as pandas dataframes)\n",
        "X = national_health_and_nutrition_health_survey_2013_2014_nhanes_age_prediction_subset.data.features\n",
        "y = national_health_and_nutrition_health_survey_2013_2014_nhanes_age_prediction_subset.data.targets\n",
        "\n",
        "# metadata\n",
        "print(national_health_and_nutrition_health_survey_2013_2014_nhanes_age_prediction_subset.values)\n",
        "\n",
        "# variable information\n",
        "#print(national_health_and_nutrition_health_survey_2013_2014_nhanes_age_prediction_subset.variables)\n",
        "\n",
        "#print(national_health_and_nutrition_health_survey_2013_2014_nhanes_age_prediction_subset.original)\n",
        "\n",
        "first_line = X.head(3)\n",
        "#print(first_line)\n",
        "\n",
        "first_line_target = y.head(600)\n",
        "print(first_line_target)"
      ]
    },
    {
      "cell_type": "markdown",
      "source": [],
      "metadata": {
        "id": "xpRiNjlgSvwR"
      }
    },
    {
      "cell_type": "code",
      "source": [
        "from ucimlrepo import fetch_ucirepo\n",
        "\n",
        "# fetch dataset\n",
        "breast_cancer_wisconsin_original = fetch_ucirepo(id=15)\n",
        "\n",
        "# data (as pandas dataframes)\n",
        "X = breast_cancer_wisconsin_original.data.features\n",
        "y = breast_cancer_wisconsin_original.data.targets\n",
        "\n",
        "# metadata\n",
        "#print(breast_cancer_wisconsin_original.metadata)\n",
        "\n",
        "# variable information\n",
        "#print(breast_cancer_wisconsin_original.variables)\n",
        "\n",
        "first_line = X.head(3)\n",
        "print(first_line)\n",
        "\n",
        "first_line_target = y.head(3)\n",
        "print(first_line_target)\n"
      ],
      "metadata": {
        "colab": {
          "base_uri": "https://localhost:8080/"
        },
        "id": "mQCUcjUFR9jq",
        "outputId": "a9a52e96-9640-45d2-c3d5-32d26df854a8"
      },
      "execution_count": 12,
      "outputs": [
        {
          "output_type": "stream",
          "name": "stdout",
          "text": [
            "   Clump_thickness  Uniformity_of_cell_size  Uniformity_of_cell_shape  \\\n",
            "0                5                        1                         1   \n",
            "1                5                        4                         4   \n",
            "2                3                        1                         1   \n",
            "\n",
            "   Marginal_adhesion  Single_epithelial_cell_size  Bare_nuclei  \\\n",
            "0                  1                            2          1.0   \n",
            "1                  5                            7         10.0   \n",
            "2                  1                            2          2.0   \n",
            "\n",
            "   Bland_chromatin  Normal_nucleoli  Mitoses  \n",
            "0                3                1        1  \n",
            "1                3                2        1  \n",
            "2                3                1        1  \n",
            "   Class\n",
            "0      2\n",
            "1      2\n",
            "2      2\n"
          ]
        }
      ]
    }
  ]
}