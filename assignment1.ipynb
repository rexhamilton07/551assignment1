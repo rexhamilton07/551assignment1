{
  "nbformat": 4,
  "nbformat_minor": 0,
  "metadata": {
    "colab": {
      "provenance": [],
      "include_colab_link": true
    },
    "kernelspec": {
      "name": "python3",
      "display_name": "Python 3"
    },
    "language_info": {
      "name": "python"
    }
  },
  "cells": [
    {
      "cell_type": "markdown",
      "metadata": {
        "id": "view-in-github",
        "colab_type": "text"
      },
      "source": [
        "<a href=\"https://colab.research.google.com/github/rexhamilton07/551assignment1/blob/main/assignment1.ipynb\" target=\"_parent\"><img src=\"https://colab.research.google.com/assets/colab-badge.svg\" alt=\"Open In Colab\"/></a>"
      ]
    },
    {
      "cell_type": "code",
      "source": [
        "import numpy as np\n",
        "import pandas as pd\n",
        "\n",
        "def fetch_data_nutrition():\n",
        "\n",
        "  #import\n",
        "  from ucimlrepo import fetch_ucirepo\n",
        "\n",
        "  # fetch dataset\n",
        "  national_health_and_nutrition_health_survey_2013_2014_nhanes_age_prediction_subset = fetch_ucirepo(id=887)\n",
        "\n",
        "  # data (as pandas dataframes)\n",
        "  X = national_health_and_nutrition_health_survey_2013_2014_nhanes_age_prediction_subset.data.features\n",
        "  y = national_health_and_nutrition_health_survey_2013_2014_nhanes_age_prediction_subset.data.targets\n",
        "\n",
        "  # metadata\n",
        "  print(national_health_and_nutrition_health_survey_2013_2014_nhanes_age_prediction_subset.values)\n",
        "\n",
        "  # variable information\n",
        "  #print(national_health_and_nutrition_health_survey_2013_2014_nhanes_age_prediction_subset.variables)\n",
        "\n",
        "  #print(national_health_and_nutrition_health_survey_2013_2014_nhanes_age_prediction_subset.original)\n",
        "\n",
        "  #first_line = X.head(3)\n",
        "  #print(first_line)\n",
        "\n",
        "  #first_line_target = y.head(3)\n",
        "  #print(first_line_target)\n",
        "\n",
        "  X = X.dropna()\n",
        "\n",
        "  return (X, y)\n",
        "\n",
        "fetch_data_nutrition()"
      ],
      "metadata": {
        "colab": {
          "base_uri": "https://localhost:8080/"
        },
        "id": "z6kKjDT-XWIg",
        "outputId": "9f0ed35f-afb5-4dbf-d0e6-6eb2b0b78d78"
      },
      "execution_count": null,
      "outputs": [
        {
          "output_type": "stream",
          "name": "stdout",
          "text": [
            "<built-in method values of dotdict object at 0x785b56b35580>\n"
          ]
        },
        {
          "output_type": "execute_result",
          "data": {
            "text/plain": [
              "(      RIAGENDR  PAQ605  BMXBMI  LBXGLU  DIQ010  LBXGLT  LBXIN\n",
              " 0          2.0     2.0    35.7   110.0     2.0   150.0  14.91\n",
              " 1          2.0     2.0    20.3    89.0     2.0    80.0   3.85\n",
              " 2          1.0     2.0    23.2    89.0     2.0    68.0   6.14\n",
              " 3          1.0     2.0    28.9   104.0     2.0    84.0  16.15\n",
              " 4          2.0     1.0    35.9   103.0     2.0    81.0  10.92\n",
              " ...        ...     ...     ...     ...     ...     ...    ...\n",
              " 2273       2.0     2.0    33.5   100.0     2.0    73.0   6.53\n",
              " 2274       1.0     2.0    30.0    93.0     2.0   208.0  13.02\n",
              " 2275       1.0     2.0    23.7   103.0     2.0   124.0  21.41\n",
              " 2276       2.0     2.0    27.4    90.0     2.0   108.0   4.99\n",
              " 2277       1.0     2.0    24.5   108.0     2.0   108.0   3.76\n",
              " \n",
              " [2278 rows x 7 columns],\n",
              "      age_group\n",
              " 0        Adult\n",
              " 1        Adult\n",
              " 2        Adult\n",
              " 3        Adult\n",
              " 4        Adult\n",
              " ...        ...\n",
              " 2273     Adult\n",
              " 2274     Adult\n",
              " 2275     Adult\n",
              " 2276     Adult\n",
              " 2277     Adult\n",
              " \n",
              " [2278 rows x 1 columns])"
            ]
          },
          "metadata": {},
          "execution_count": 29
        }
      ]
    },
    {
      "cell_type": "code",
      "execution_count": null,
      "metadata": {
        "id": "BC13w7qDRQfT"
      },
      "outputs": [],
      "source": [
        "def fetch_data_breastcancer():\n",
        "  from ucimlrepo import fetch_ucirepo\n",
        "\n",
        "  # fetch dataset\n",
        "  breast_cancer_wisconsin_original = fetch_ucirepo(id=15)\n",
        "\n",
        "  # data (as pandas dataframes)\n",
        "  X = breast_cancer_wisconsin_original.data.features\n",
        "  y = breast_cancer_wisconsin_original.data.targets\n",
        "\n",
        "  # metadata\n",
        "  #print(breast_cancer_wisconsin_original.metadata)\n",
        "\n",
        "  # variable information\n",
        "  #print(breast_cancer_wisconsin_original.variables)\n",
        "\n",
        "  #first_line = X.head(3)\n",
        "  #print(first_line)\n",
        "\n",
        "  #first_line_target = y.head(3)\n",
        "  #print(first_line_target)\n",
        "\n",
        "  X = X.dropna()\n",
        "  return (X, y)\n",
        "\n",
        "#fetch_data_breastcancer()\n"
      ]
    },
    {
      "cell_type": "markdown",
      "source": [],
      "metadata": {
        "id": "xpRiNjlgSvwR"
      }
    },
    {
      "cell_type": "code",
      "source": [
        "def stats(X, y):\n",
        "\n",
        "  df = X.copy(True)\n",
        "\n",
        "  df[\"y\"] = y\n",
        "\n",
        "  df_be = df[df[\"y\"] == 2]\n",
        "\n",
        "  print(\"Begnin Feature Means : \")\n",
        "  print(df_be.mean())\n",
        "\n",
        "  df_ml = df[df[\"y\"] == 4]\n",
        "\n",
        "  print(\"\\nMalignant Feature Means : \")\n",
        "  print(df_ml.mean())\n",
        "\n",
        "stats(fetch_data_breastcancer()[0],fetch_data_breastcancer()[1])"
      ],
      "metadata": {
        "colab": {
          "base_uri": "https://localhost:8080/"
        },
        "id": "mQCUcjUFR9jq",
        "outputId": "b1f8f823-4168-441b-f2ea-fca688cfd26e"
      },
      "execution_count": null,
      "outputs": [
        {
          "output_type": "stream",
          "name": "stdout",
          "text": [
            "Begnin Feature Means : \n",
            "Clump_thickness                2.963964\n",
            "Uniformity_of_cell_size        1.306306\n",
            "Uniformity_of_cell_shape       1.414414\n",
            "Marginal_adhesion              1.346847\n",
            "Single_epithelial_cell_size    2.108108\n",
            "Bare_nuclei                    1.346847\n",
            "Bland_chromatin                2.083333\n",
            "Normal_nucleoli                1.261261\n",
            "Mitoses                        1.065315\n",
            "y                              2.000000\n",
            "dtype: float64\n",
            "\n",
            "Malignant Feature Means : \n",
            "Clump_thickness                7.188285\n",
            "Uniformity_of_cell_size        6.577406\n",
            "Uniformity_of_cell_shape       6.560669\n",
            "Marginal_adhesion              5.585774\n",
            "Single_epithelial_cell_size    5.326360\n",
            "Bare_nuclei                    7.627615\n",
            "Bland_chromatin                5.974895\n",
            "Normal_nucleoli                5.857741\n",
            "Mitoses                        2.602510\n",
            "y                              4.000000\n",
            "dtype: float64\n"
          ]
        }
      ]
    }
  ]
}