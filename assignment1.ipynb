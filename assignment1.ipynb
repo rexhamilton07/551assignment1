{
  "nbformat": 4,
  "nbformat_minor": 0,
  "metadata": {
    "colab": {
      "provenance": [],
      "include_colab_link": true
    },
    "kernelspec": {
      "name": "python3",
      "display_name": "Python 3"
    },
    "language_info": {
      "name": "python"
    }
  },
  "cells": [
    {
      "cell_type": "markdown",
      "metadata": {
        "id": "view-in-github",
        "colab_type": "text"
      },
      "source": [
        "<a href=\"https://colab.research.google.com/github/rexhamilton07/551assignment1/blob/main/assignment1.ipynb\" target=\"_parent\"><img src=\"https://colab.research.google.com/assets/colab-badge.svg\" alt=\"Open In Colab\"/></a>"
      ]
    },
    {
      "cell_type": "code",
      "source": [
        "import numpy as np\n",
        "import pandas as pd\n",
        "\n",
        "def fetch_data_nutrition():\n",
        "\n",
        "  #import\n",
        "  from ucimlrepo import fetch_ucirepo\n",
        "\n",
        "  # fetch dataset\n",
        "  national_health_and_nutrition_health_survey_2013_2014_nhanes_age_prediction_subset = fetch_ucirepo(id=887)\n",
        "\n",
        "  # data (as pandas dataframes)\n",
        "  X = national_health_and_nutrition_health_survey_2013_2014_nhanes_age_prediction_subset.data.features\n",
        "  y = national_health_and_nutrition_health_survey_2013_2014_nhanes_age_prediction_subset.data.targets\n",
        "\n",
        "  # metadata\n",
        "  print(national_health_and_nutrition_health_survey_2013_2014_nhanes_age_prediction_subset.values)\n",
        "\n",
        "  # variable information\n",
        "  #print(national_health_and_nutrition_health_survey_2013_2014_nhanes_age_prediction_subset.variables)\n",
        "\n",
        "  #print(national_health_and_nutrition_health_survey_2013_2014_nhanes_age_prediction_subset.original)\n",
        "\n",
        "  #first_line = X.head(3)\n",
        "  #print(first_line)\n",
        "\n",
        "  #first_line_target = y.head(3)\n",
        "  #print(first_line_target)\n",
        "\n",
        "  X = X.dropna()\n",
        "\n",
        "  return (X, y)\n",
        "\n",
        "#fetch_data_nutrition()"
      ],
      "metadata": {
        "id": "z6kKjDT-XWIg"
      },
      "execution_count": 89,
      "outputs": []
    },
    {
      "cell_type": "code",
      "execution_count": 90,
      "metadata": {
        "id": "BC13w7qDRQfT"
      },
      "outputs": [],
      "source": [
        "def fetch_data_breastcancer():\n",
        "  from ucimlrepo import fetch_ucirepo\n",
        "\n",
        "  # fetch dataset\n",
        "  breast_cancer_wisconsin_original = fetch_ucirepo(id=15)\n",
        "\n",
        "  # data (as pandas dataframes)\n",
        "  X = breast_cancer_wisconsin_original.data.features\n",
        "  y = breast_cancer_wisconsin_original.data.targets\n",
        "\n",
        "  # metadata\n",
        "  #print(breast_cancer_wisconsin_original.metadata)\n",
        "\n",
        "  # variable information\n",
        "  #print(breast_cancer_wisconsin_original.variables)\n",
        "\n",
        "  #first_line = X.head(3)\n",
        "  #print(first_line)\n",
        "\n",
        "  #first_line_target = y.head(3)\n",
        "  #print(first_line_target)\n",
        "\n",
        "  X = X.dropna()\n",
        "  return (X, y)\n",
        "\n",
        "#fetch_data_breastcancer()\n"
      ]
    },
    {
      "cell_type": "markdown",
      "source": [],
      "metadata": {
        "id": "xpRiNjlgSvwR"
      }
    },
    {
      "cell_type": "code",
      "source": [
        "def stats_nutrition(X, y):\n",
        "\n",
        "  df = X.copy(True)\n",
        "\n",
        "  df[\"y\"] = y\n",
        "\n",
        "  df_be = df[df[\"y\"] == \"Adult\"]\n",
        "\n",
        "  print(\"Adult Feature Means : \")\n",
        "  print(df_be.mean(numeric_only=True))\n",
        "\n",
        "  df_ml = df[df[\"y\"] == \"Senior\"]\n",
        "\n",
        "  print(\"\\nSenior Feature Means : \")\n",
        "  print(df_ml.mean(numeric_only=True))\n",
        "\n",
        "  print(\"\\nSquare Diff between Group Means : \")\n",
        "  df_sq_diff = (df_be.mean(numeric_only=True) - df_ml.mean(numeric_only=True)).pow(2).sort_values(ascending=False)\n",
        "\n",
        "  print(df_sq_diff)\n",
        "\n",
        "nutrition_data = fetch_data_nutrition()\n",
        "stats_nutrition(nutrition_data[0],nutrition_data[1])"
      ],
      "metadata": {
        "colab": {
          "base_uri": "https://localhost:8080/"
        },
        "id": "YHW5P-lK1vb6",
        "outputId": "ed14b379-3db0-4be8-a325-b2138a042d50"
      },
      "execution_count": 104,
      "outputs": [
        {
          "output_type": "stream",
          "name": "stdout",
          "text": [
            "<built-in method values of dotdict object at 0x785b537a4400>\n",
            "Adult Feature Means : \n",
            "RIAGENDR      1.512017\n",
            "PAQ605        1.806165\n",
            "BMXBMI       27.968286\n",
            "LBXGLU       98.644723\n",
            "DIQ010        2.014107\n",
            "LBXGLT      109.990596\n",
            "LBXIN        12.106661\n",
            "dtype: float64\n",
            "\n",
            "Senior Feature Means : \n",
            "RIAGENDR      1.508242\n",
            "PAQ605        1.909341\n",
            "BMXBMI       27.886264\n",
            "LBXGLU      104.329670\n",
            "DIQ010        2.027473\n",
            "LBXGLT      141.208791\n",
            "LBXIN        10.405247\n",
            "dtype: float64\n",
            "\n",
            "Square Diff between Group Means : \n",
            "LBXGLT      974.575736\n",
            "LBXGLU       32.318625\n",
            "LBXIN         2.894810\n",
            "PAQ605        0.010645\n",
            "BMXBMI        0.006728\n",
            "DIQ010        0.000179\n",
            "RIAGENDR      0.000014\n",
            "dtype: float64\n"
          ]
        }
      ]
    },
    {
      "cell_type": "code",
      "source": [
        "def stats_breastcancer(X, y):\n",
        "\n",
        "  df = X.copy(True)\n",
        "\n",
        "  df[\"y\"] = y\n",
        "\n",
        "  df_be = df[df[\"y\"] == 2]\n",
        "\n",
        "  print(\"Begnin Feature Means : \")\n",
        "  print(df_be.mean())\n",
        "\n",
        "  df_ml = df[df[\"y\"] == 4]\n",
        "\n",
        "  print(\"\\nMalignant Feature Means : \")\n",
        "  print(df_ml.mean())\n",
        "\n",
        "  print(\"\\nSquare Diff between Group Means : \")\n",
        "  df_sq_diff = (df_be.mean(numeric_only=True) - df_ml.mean(numeric_only=True)).pow(2).sort_values(ascending=False).drop(\"y\")\n",
        "\n",
        "  print(df_sq_diff)\n",
        "\n",
        "breast_cancer_data = fetch_data_breastcancer()\n",
        "stats_breastcancer(breast_cancer_data[0],breast_cancer_data[1])"
      ],
      "metadata": {
        "colab": {
          "base_uri": "https://localhost:8080/"
        },
        "id": "mQCUcjUFR9jq",
        "outputId": "ce298d15-7dad-42a4-8c81-7d0027d0d6f5"
      },
      "execution_count": 103,
      "outputs": [
        {
          "output_type": "stream",
          "name": "stdout",
          "text": [
            "Begnin Feature Means : \n",
            "Clump_thickness                2.963964\n",
            "Uniformity_of_cell_size        1.306306\n",
            "Uniformity_of_cell_shape       1.414414\n",
            "Marginal_adhesion              1.346847\n",
            "Single_epithelial_cell_size    2.108108\n",
            "Bare_nuclei                    1.346847\n",
            "Bland_chromatin                2.083333\n",
            "Normal_nucleoli                1.261261\n",
            "Mitoses                        1.065315\n",
            "y                              2.000000\n",
            "dtype: float64\n",
            "\n",
            "Malignant Feature Means : \n",
            "Clump_thickness                7.188285\n",
            "Uniformity_of_cell_size        6.577406\n",
            "Uniformity_of_cell_shape       6.560669\n",
            "Marginal_adhesion              5.585774\n",
            "Single_epithelial_cell_size    5.326360\n",
            "Bare_nuclei                    7.627615\n",
            "Bland_chromatin                5.974895\n",
            "Normal_nucleoli                5.857741\n",
            "Mitoses                        2.602510\n",
            "y                              4.000000\n",
            "dtype: float64\n",
            "\n",
            "Square Diff between Group Means\n",
            "Bare_nuclei                    39.448049\n",
            "Uniformity_of_cell_size        27.784490\n",
            "Uniformity_of_cell_shape       26.483941\n",
            "Normal_nucleoli                21.127622\n",
            "Marginal_adhesion              17.968504\n",
            "Clump_thickness                17.844884\n",
            "Bland_chromatin                15.144255\n",
            "Single_epithelial_cell_size    10.357144\n",
            "Mitoses                         2.362969\n",
            "dtype: float64\n"
          ]
        }
      ]
    }
  ]
}